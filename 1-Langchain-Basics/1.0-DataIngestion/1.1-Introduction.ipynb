{
 "cells": [
  {
   "cell_type": "markdown",
   "id": "4fc2ee4d",
   "metadata": {},
   "source": [
    "### ✅ 1. **Data Ingestion**\n",
    "\n",
    "#### 📘 What It Is:\n",
    "\n",
    "The process of **loading your source data** (PDFs, docs, web pages, etc.) into a format that can be processed (split, embedded, and stored).\n",
    "\n",
    "#### 🎯 Types of Loaders:\n",
    "\n",
    "`from langchain_community.document_loaders import name_of_the_loader`\n",
    "\n",
    "https://python.langchain.com/v0.2/docs/integrations/document_loaders/\n",
    "\n",
    "1. TextLoaders\n",
    "\n",
    "2. PyPDFLoaders\n",
    "\n",
    "3. WebBaseLoader\n",
    "\n",
    "4. ArxivLoader\n",
    "\n",
    "5. WikipediaLoader\n",
    "\n",
    "#### 🎯 Aim:\n",
    "\n",
    "-   Load documents into memory.\n",
    "    \n",
    "-   Normalize them for processing."
   ]
  },
  {
   "cell_type": "markdown",
   "id": "89375b3d",
   "metadata": {},
   "source": []
  }
 ],
 "metadata": {
  "language_info": {
   "name": "python"
  }
 },
 "nbformat": 4,
 "nbformat_minor": 5
}
