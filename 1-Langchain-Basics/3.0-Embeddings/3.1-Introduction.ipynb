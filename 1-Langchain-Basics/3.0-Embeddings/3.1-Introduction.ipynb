{
 "cells": [
  {
   "cell_type": "markdown",
   "id": "8c00b478",
   "metadata": {},
   "source": [
    "### ✅ 3. **Embedding**\n",
    "\n",
    "#### 📘 What It Is:\n",
    "\n",
    "Turning your text chunks into **numerical vectors** so they can be stored in a **vector database** and retrieved semantically.\n",
    "\n",
    "#### 🎯 Aim:\n",
    "\n",
    "-   Convert text into vector space using embedding models.\n",
    "    \n",
    "-   Use this for semantic search later.\n",
    "    \n",
    "\n",
    "* * *\n",
    "\n",
    "#### 🧠 Common Embedding Models in LangChain:\n",
    "\n",
    "\n",
    "`from langchain.embeddings import OpenAIEmbeddings, HuggingFaceEmbeddings`\n",
    "\n",
    "🧪 **Example (OpenAI Embeddings)**:\n",
    "\n",
    "`from langchain.embeddings import OpenAIEmbeddings`\n",
    "\n",
    "`embedding = OpenAIEmbeddings()`"
   ]
  },
  {
   "cell_type": "markdown",
   "id": "2fe046ca",
   "metadata": {},
   "source": []
  }
 ],
 "metadata": {
  "language_info": {
   "name": "python"
  }
 },
 "nbformat": 4,
 "nbformat_minor": 5
}
