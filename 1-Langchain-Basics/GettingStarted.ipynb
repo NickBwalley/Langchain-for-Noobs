{
 "cells": [
  {
   "cell_type": "markdown",
   "metadata": {},
   "source": [
    "## Getting Started with Langchain and OpenAI\n",
    "#### Learning Objectives: \n",
    "1. Get Setup with Langchain, LangSmith and LangServe\n",
    "2. Common templates of langchain: prompt templates, models and output parser. \n",
    "3. Build a simple app with langchain\n",
    "4. Trace your application with LangSmith\n",
    "5. Server your application with LangServe"
   ]
  },
  {
   "cell_type": "markdown",
   "metadata": {},
   "source": []
  }
 ],
 "metadata": {
  "language_info": {
   "name": "python"
  }
 },
 "nbformat": 4,
 "nbformat_minor": 2
}
