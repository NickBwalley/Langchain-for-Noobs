{
 "cells": [
  {
   "cell_type": "markdown",
   "metadata": {},
   "source": [
    "#### Simple Website Analyzer By URL (GEN AI APP) Using Langchain"
   ]
  },
  {
   "cell_type": "code",
   "execution_count": 2,
   "metadata": {},
   "outputs": [],
   "source": [
    "import os\n",
    "from dotenv import load_dotenv\n",
    "load_dotenv()\n",
    "\n",
    "os.environ['OPENAI_API_KEY']=os.getenv(\"OPENAI_API_KEY\")\n",
    "## Langsmith Tracking\n",
    "os.environ[\"LANGSMITH_API_KEY\"]=os.getenv(\"LANGSMITH_API_KEY\")\n",
    "os.environ[\"LANGCHAIN_TRACING_V2\"]=\"true\"\n",
    "os.environ[\"LANGCHAIN_PROJECT\"]=os.getenv(\"LANGCHAIN_PROJECT\")"
   ]
  },
  {
   "cell_type": "code",
   "execution_count": 3,
   "metadata": {},
   "outputs": [
    {
     "name": "stderr",
     "output_type": "stream",
     "text": [
      "USER_AGENT environment variable not set, consider setting it to identify your requests.\n"
     ]
    }
   ],
   "source": [
    "## Data Ingestion--From the website we need to scrape the data\n",
    "from langchain_community.document_loaders import WebBaseLoader"
   ]
  },
  {
   "cell_type": "code",
   "execution_count": 6,
   "metadata": {},
   "outputs": [
    {
     "data": {
      "text/plain": [
       "<langchain_community.document_loaders.web_base.WebBaseLoader at 0x23d61896b50>"
      ]
     },
     "execution_count": 6,
     "metadata": {},
     "output_type": "execute_result"
    }
   ],
   "source": [
    "loader=WebBaseLoader(\"https://dev.to/lovestaco/model-context-protocol-the-secret-sauce-behind-smart-ai-tools-5mc\")\n",
    "loader"
   ]
  },
  {
   "cell_type": "code",
   "execution_count": 7,
   "metadata": {},
   "outputs": [
    {
     "data": {
      "text/plain": [
       "[Document(metadata={'source': 'https://dev.to/lovestaco/model-context-protocol-the-secret-sauce-behind-smart-ai-tools-5mc', 'title': 'Model Context Protocol: The Secret Sauce Behind Smart AI Tools - DEV Community', 'description': 'Ever wondered how tools like Cursor manage to remember what you’re working on across different files,... Tagged with webdev, programming, beginners, ai.', 'language': 'en'}, page_content=\"\\n\\n\\n\\nModel Context Protocol: The Secret Sauce Behind Smart AI Tools - DEV Community\\n\\n\\n\\n\\n\\n\\n\\n\\n\\n\\n\\n\\n\\n\\n\\n\\n\\n\\n\\n\\n\\n\\n\\n\\n\\n\\n\\n\\n\\n\\n\\n\\n\\n\\n\\n\\n\\n\\n\\n\\n\\n\\n\\n\\n\\n\\n\\n\\n\\n\\n\\n\\n\\n\\n\\n\\n\\n\\n\\nSkip to content\\n\\n\\n\\nNavigation menu\\n\\n\\n\\n\\n\\n\\n\\n\\n\\n\\n\\n\\n\\nSearch\\n\\n\\n\\n\\n                Powered by\\n                Search\\n\\n\\n\\n                Algolia\\n            \\n\\n\\n\\n\\n\\n\\n\\n\\n              Log in\\n            \\n\\n\\n            Create account\\n          \\n\\n\\n\\n\\n\\n\\n\\nDEV Community\\n\\nClose\\n\\n\\n\\n\\n\\n\\n\\n\\n\\n\\n\\n\\n\\n\\n\\n\\n\\n\\n\\n\\n\\n\\n\\n\\n\\n\\n\\n\\n\\n\\n\\n\\n\\n\\n\\n\\n\\n\\n\\n\\n\\n\\n\\n        Add reaction\\n      \\n\\n\\n\\n\\n\\n\\n\\n\\n\\n      Like\\n    \\n\\n\\n\\n\\n\\n\\n\\n      Unicorn\\n    \\n\\n\\n\\n\\n\\n\\n\\n      Exploding Head\\n    \\n\\n\\n\\n\\n\\n\\n\\n      Raised Hands\\n    \\n\\n\\n\\n\\n\\n\\n\\n      Fire\\n    \\n\\n\\n\\n\\n\\n\\n\\n\\n\\n\\n\\n\\n\\n\\n      Jump to Comments\\n    \\n\\n\\n\\n\\n\\n\\n\\n\\n\\n      Save\\n    \\n\\n\\n\\n\\n\\n\\n\\n\\n      Boost\\n    \\n\\n\\n\\n\\n\\n\\n\\nMore...\\n\\n\\n\\n\\n            Moderate\\n          \\n\\n\\n\\nCopy link\\nCopy link\\n\\n\\n\\nCopied to Clipboard\\n\\n\\n\\n            Share to X\\n          \\n\\n            Share to LinkedIn\\n          \\n\\n            Share to Facebook\\n          \\n\\n            Share to Mastodon\\n          \\n\\n\\n\\n\\nReport Abuse\\n\\n\\n\\n\\n\\n\\n\\n\\n\\n\\n\\n\\n\\n\\n\\n\\n\\n\\n\\n\\n\\nAthreya aka Maneshwar\\n\\n                      Posted on Apr 9\\n\\n\\n\\n\\n\\n\\n\\n\\xa0\\n\\n\\n\\n\\xa0\\n\\n\\n\\n\\xa0\\n\\n\\n\\n\\xa0\\n\\n\\n\\n\\xa0\\n\\n\\n\\n              Model Context Protocol: The Secret Sauce Behind Smart AI Tools\\n            \\n\\n#webdev\\n#programming\\n#beginners\\n#ai\\n\\n\\n\\n\\n\\nEver wondered how tools like Cursor manage to remember what you’re working on across different files, tabs, and even entire projects—without being nosy or breaking everything? That magic has a name: Model Context Protocol, or simply MCP.\\nLet’s break it down.\\n\\n\\n\\n\\n  🤔 What is MCP?\\n\\nMCP is a standardized way for AI models and applications to communicate, share context, and maintain consistency across different platforms. \\nThink of it as a universal language that allows AI models to understand and exchange information seamlessly, regardless of where they’re being used.\\n\\n\\n\\n\\n  Why Use MCP?\\n\\n\\n\\nConsistent AI Behavior – Ensures AI models behave predictably across different environments.\\n\\nInteroperability – Lets different tools and editors work with the same AI model without compatibility issues.\\n\\nReduced Setup Hassle – Developers don’t need to rewrite integrations for every new platform.\\n\\nBetter Context Retention – Helps AI models maintain conversation history and user preferences across sessions.\\n\\n\\n\\n\\n  Why an AI Product Company Should Build with MCP\\n\\nIf your company is developing AI-powered tools, adopting or creating an MCP can be a game-changer. Here’s why:\\n\\nFaster Integrations – Other platforms can plug into your AI model with minimal configuration.\\nEcosystem Growth – Encourages third-party developers to build on top of your AI, expanding your product’s reach.\\nImproved User Experience – Ensures smooth transitions when users switch between different tools (e.g., VS Code → JetBrains IDE).\\nCompetitive Edge – Having a standardized protocol makes your AI more adaptable and future-proof.\\n\\n\\n\\n\\n  How Code Editors Can Use MCP with Minimal Setup\\n\\nOne of the biggest advantages of MCP is its plug-and-play nature. Here’s how another code editor (like VS Code, or Cursor) could integrate with an AI product using MCP:\\n\\nInstall a Plugin/Extension – The editor just needs a lightweight MCP-compatible plugin.\\nConfigure API Endpoints – Point the plugin to the AI service’s MCP endpoint.\\nSync Context – The AI model retains context (e.g., previous chat history, preferences) without extra setup.\\nStart Using AI Features – The editor now supports autocomplete, chat, or debugging powered by the same AI.\\n\\nSince MCP standardizes communication, switching between tools becomes effortless!\\n\\n\\n\\n  Are There Alternatives to MCP?\\n\\nYep. A few:\\n\\nCustom APIs – Many AI companies build proprietary APIs, but these require custom integrations for each platform.\\nOpenAI’s Chat Markup Language (ChatML) – Used for structuring conversations with models like GPT.\\nLangChain / LlamaIndex – Frameworks for connecting AI models to external data, but not exactly the same as MCP.\\nREST/GraphQL APIs – Traditional methods, but they lack the standardized context-handling of MCP.\\n\\nMCP stands out by focusing on universal context sharing, making it ideal for multi-platform AI applications.\\n\\n\\n\\n  Wrapping Up\\n\\nModel Context Protocol (MCP) is shaping up to be a key enabler for seamless AI interactions across different tools. \\nFor AI companies, adopting MCP means easier integrations and happier developers. \\nFor users, it means a smoother, more consistent AI experience no matter which editor or app they use.\\nWould you like to see MCP become a standard in AI development? Let me know your thoughts in the comments! 🚀\\n\\nI’ve been actively working on a super-convenient tool called LiveAPI.\\nLiveAPI helps you get all your backend APIs documented in a few minutes\\nWith LiveAPI, you can quickly generate interactive API documentation that allows users to execute APIs directly from the browser.\\n\\nIf you’re tired of manually creating docs for your APIs, this tool might just make your life easier.\\n\\n\\n\\n\\n\\n\\n\\n            Top comments (0)\\n\\n\\n\\n\\nSubscribe\\n\\n\\n\\n\\n\\n\\n\\n\\n\\n\\n\\n\\n\\n\\n\\n\\n\\n\\n\\n\\nPersonal\\nTrusted User\\n\\n\\n\\n\\n\\n\\n        Create template\\n      \\nTemplates let you quickly answer FAQs or store snippets for re-use.\\n\\n\\n\\nSubmit\\nPreview\\nDismiss\\n\\n\\n\\n\\n\\n\\n\\n\\n\\nCode of Conduct\\n•\\nReport abuse\\n\\n\\n\\n\\n\\n\\n\\n        Are you sure you want to hide this comment? It will become hidden in your post, but will still be visible via the comment's permalink.\\n      \\n\\n\\nHide child comments as well\\n\\n\\n\\n          Confirm\\n        \\n\\n\\n For further actions, you may consider blocking this person and/or reporting abuse\\n\\n\\n\\n\\n\\n\\n\\n\\n\\n\\n\\n\\n\\n\\n\\n\\n\\n      Athreya aka Maneshwar\\n      \\n    \\n\\n\\n\\nFollow\\n\\n\\n    Technical Writer | 180k+ Reads | i3 x Mint | Learning, building, improving, writing :)\\n  \\n\\n\\n\\n\\n          Joined\\n        \\n\\nJan 5, 2023\\n\\n\\n\\n\\n\\n\\n\\n\\n            More from Athreya aka Maneshwar\\n\\n\\n\\n\\n              Making Sense of Strong, Weak, and Eventual Consistency\\n              \\n#webdev\\n#programming\\n#beginners\\n\\n\\n\\n              Quick Fix for Debugging Panic Failures in Go 🔧\\n              \\n#webdev\\n#programming\\n#beginners\\n#go\\n\\n\\n\\n              Smooth Database Migrations in a Fast-Moving World\\n              \\n#webdev\\n#programming\\n#devops\\n#database\\n\\n\\n\\n\\n\\n\\n\\n\\n\\n\\n\\n\\n\\n\\n\\n\\n\\n\\n\\n\\n\\n\\n\\n\\n\\r\\nThank you to our Diamond Sponsor Neon for supporting our community.\\r\\n\\n\\n\\nDEV Community — A constructive and inclusive social network for software developers. With you every step of your journey.\\n    \\n\\n\\n\\n      Home\\n    \\n\\n\\n\\n\\n      DEV++\\n    \\n\\n\\n\\n\\n      Podcasts\\n    \\n\\n\\n\\n\\n      Videos\\n    \\n\\n\\n\\n\\n      Tags\\n    \\n\\n\\n\\n\\n      DEV Help\\n    \\n\\n\\n\\n\\n      Forem Shop\\n    \\n\\n\\n\\n\\n      Advertise on DEV\\n    \\n\\n\\n\\n\\n      DEV Challenges\\n    \\n\\n\\n\\n\\n      DEV Showcase\\n    \\n\\n\\n\\n\\n      About\\n    \\n\\n\\n\\n\\n      Contact\\n    \\n\\n\\n\\n\\n      Free Postgres Database\\n    \\n\\n\\n\\n\\n      Software comparisons\\n    \\n\\n\\n\\n\\n\\n\\n      Code of Conduct\\n    \\n\\n\\n\\n\\n      Privacy Policy\\n    \\n\\n\\n\\n\\n      Terms of use\\n    \\n\\n\\n\\n\\nBuilt on Forem — the open source software that powers DEV and other inclusive communities.\\nMade with love and Ruby on Rails. DEV Community © 2016 - 2025.\\n\\n\\n\\n\\n\\n\\n\\n\\n\\n\\n\\n          We're a place where coders share, stay up-to-date and grow their careers.\\n      \\n\\n\\n\\n        Log in\\n      \\n\\n        Create account\\n      \\n\\n\\n\\n\\n\\n\\n\\n\\n\\n\\n\\n\\n\\n\\n\\n\\n\")]"
      ]
     },
     "execution_count": 7,
     "metadata": {},
     "output_type": "execute_result"
    }
   ],
   "source": [
    "docs=loader.load()\n",
    "docs"
   ]
  },
  {
   "cell_type": "code",
   "execution_count": 8,
   "metadata": {},
   "outputs": [],
   "source": [
    "### Load Data--> Docs-->Divide our Docuemnts into chunks dcouments-->text-->vectors-->Vector Embeddings--->Vector Store DB\n",
    "from langchain_text_splitters import RecursiveCharacterTextSplitter\n",
    "\n",
    "text_splitter=RecursiveCharacterTextSplitter(chunk_size=1000,chunk_overlap=200)\n",
    "documents=text_splitter.split_documents(docs)"
   ]
  },
  {
   "cell_type": "code",
   "execution_count": 9,
   "metadata": {},
   "outputs": [
    {
     "data": {
      "text/plain": [
       "[Document(metadata={'source': 'https://dev.to/lovestaco/model-context-protocol-the-secret-sauce-behind-smart-ai-tools-5mc', 'title': 'Model Context Protocol: The Secret Sauce Behind Smart AI Tools - DEV Community', 'description': 'Ever wondered how tools like Cursor manage to remember what you’re working on across different files,... Tagged with webdev, programming, beginners, ai.', 'language': 'en'}, page_content='Model Context Protocol: The Secret Sauce Behind Smart AI Tools - DEV Community\\n\\n\\n\\n\\n\\n\\n\\n\\n\\n\\n\\n\\n\\n\\n\\n\\n\\n\\n\\n\\n\\n\\n\\n\\n\\n\\n\\n\\n\\n\\n\\n\\n\\n\\n\\n\\n\\n\\n\\n\\n\\n\\n\\n\\n\\n\\n\\n\\n\\n\\n\\n\\n\\n\\n\\n\\n\\n\\n\\nSkip to content\\n\\n\\n\\nNavigation menu\\n\\n\\n\\n\\n\\n\\n\\n\\n\\n\\n\\n\\n\\nSearch\\n\\n\\n\\n\\n                Powered by\\n                Search\\n\\n\\n\\n                Algolia\\n            \\n\\n\\n\\n\\n\\n\\n\\n\\n              Log in\\n            \\n\\n\\n            Create account\\n          \\n\\n\\n\\n\\n\\n\\n\\nDEV Community\\n\\nClose\\n\\n\\n\\n\\n\\n\\n\\n\\n\\n\\n\\n\\n\\n\\n\\n\\n\\n\\n\\n\\n\\n\\n\\n\\n\\n\\n\\n\\n\\n\\n\\n\\n\\n\\n\\n\\n\\n\\n\\n\\n\\n\\n\\n        Add reaction\\n      \\n\\n\\n\\n\\n\\n\\n\\n\\n\\n      Like\\n    \\n\\n\\n\\n\\n\\n\\n\\n      Unicorn\\n    \\n\\n\\n\\n\\n\\n\\n\\n      Exploding Head\\n    \\n\\n\\n\\n\\n\\n\\n\\n      Raised Hands\\n    \\n\\n\\n\\n\\n\\n\\n\\n      Fire\\n    \\n\\n\\n\\n\\n\\n\\n\\n\\n\\n\\n\\n\\n\\n\\n      Jump to Comments\\n    \\n\\n\\n\\n\\n\\n\\n\\n\\n\\n      Save\\n    \\n\\n\\n\\n\\n\\n\\n\\n\\n      Boost\\n    \\n\\n\\n\\n\\n\\n\\n\\nMore...\\n\\n\\n\\n\\n            Moderate\\n          \\n\\n\\n\\nCopy link\\nCopy link\\n\\n\\n\\nCopied to Clipboard\\n\\n\\n\\n            Share to X\\n          \\n\\n            Share to LinkedIn\\n          \\n\\n            Share to Facebook\\n          \\n\\n            Share to Mastodon\\n          \\n\\n\\n\\n\\nReport Abuse'),\n",
       " Document(metadata={'source': 'https://dev.to/lovestaco/model-context-protocol-the-secret-sauce-behind-smart-ai-tools-5mc', 'title': 'Model Context Protocol: The Secret Sauce Behind Smart AI Tools - DEV Community', 'description': 'Ever wondered how tools like Cursor manage to remember what you’re working on across different files,... Tagged with webdev, programming, beginners, ai.', 'language': 'en'}, page_content='Share to X\\n          \\n\\n            Share to LinkedIn\\n          \\n\\n            Share to Facebook\\n          \\n\\n            Share to Mastodon\\n          \\n\\n\\n\\n\\nReport Abuse\\n\\n\\n\\n\\n\\n\\n\\n\\n\\n\\n\\n\\n\\n\\n\\n\\n\\n\\n\\n\\n\\nAthreya aka Maneshwar\\n\\n                      Posted on Apr 9\\n\\n\\n\\n\\n\\n\\n\\n\\xa0\\n\\n\\n\\n\\xa0\\n\\n\\n\\n\\xa0\\n\\n\\n\\n\\xa0\\n\\n\\n\\n\\xa0\\n\\n\\n\\n              Model Context Protocol: The Secret Sauce Behind Smart AI Tools\\n            \\n\\n#webdev\\n#programming\\n#beginners\\n#ai\\n\\n\\n\\n\\n\\nEver wondered how tools like Cursor manage to remember what you’re working on across different files, tabs, and even entire projects—without being nosy or breaking everything? That magic has a name: Model Context Protocol, or simply MCP.\\nLet’s break it down.\\n\\n\\n\\n\\n  🤔 What is MCP?\\n\\nMCP is a standardized way for AI models and applications to communicate, share context, and maintain consistency across different platforms. \\nThink of it as a universal language that allows AI models to understand and exchange information seamlessly, regardless of where they’re being used.'),\n",
       " Document(metadata={'source': 'https://dev.to/lovestaco/model-context-protocol-the-secret-sauce-behind-smart-ai-tools-5mc', 'title': 'Model Context Protocol: The Secret Sauce Behind Smart AI Tools - DEV Community', 'description': 'Ever wondered how tools like Cursor manage to remember what you’re working on across different files,... Tagged with webdev, programming, beginners, ai.', 'language': 'en'}, page_content='Why Use MCP?\\n\\n\\n\\nConsistent AI Behavior – Ensures AI models behave predictably across different environments.\\n\\nInteroperability – Lets different tools and editors work with the same AI model without compatibility issues.\\n\\nReduced Setup Hassle – Developers don’t need to rewrite integrations for every new platform.\\n\\nBetter Context Retention – Helps AI models maintain conversation history and user preferences across sessions.\\n\\n\\n\\n\\n  Why an AI Product Company Should Build with MCP\\n\\nIf your company is developing AI-powered tools, adopting or creating an MCP can be a game-changer. Here’s why:'),\n",
       " Document(metadata={'source': 'https://dev.to/lovestaco/model-context-protocol-the-secret-sauce-behind-smart-ai-tools-5mc', 'title': 'Model Context Protocol: The Secret Sauce Behind Smart AI Tools - DEV Community', 'description': 'Ever wondered how tools like Cursor manage to remember what you’re working on across different files,... Tagged with webdev, programming, beginners, ai.', 'language': 'en'}, page_content='Why an AI Product Company Should Build with MCP\\n\\nIf your company is developing AI-powered tools, adopting or creating an MCP can be a game-changer. Here’s why:\\n\\nFaster Integrations – Other platforms can plug into your AI model with minimal configuration.\\nEcosystem Growth – Encourages third-party developers to build on top of your AI, expanding your product’s reach.\\nImproved User Experience – Ensures smooth transitions when users switch between different tools (e.g., VS Code → JetBrains IDE).\\nCompetitive Edge – Having a standardized protocol makes your AI more adaptable and future-proof.\\n\\n\\n\\n\\n  How Code Editors Can Use MCP with Minimal Setup\\n\\nOne of the biggest advantages of MCP is its plug-and-play nature. Here’s how another code editor (like VS Code, or Cursor) could integrate with an AI product using MCP:'),\n",
       " Document(metadata={'source': 'https://dev.to/lovestaco/model-context-protocol-the-secret-sauce-behind-smart-ai-tools-5mc', 'title': 'Model Context Protocol: The Secret Sauce Behind Smart AI Tools - DEV Community', 'description': 'Ever wondered how tools like Cursor manage to remember what you’re working on across different files,... Tagged with webdev, programming, beginners, ai.', 'language': 'en'}, page_content='One of the biggest advantages of MCP is its plug-and-play nature. Here’s how another code editor (like VS Code, or Cursor) could integrate with an AI product using MCP:\\n\\nInstall a Plugin/Extension – The editor just needs a lightweight MCP-compatible plugin.\\nConfigure API Endpoints – Point the plugin to the AI service’s MCP endpoint.\\nSync Context – The AI model retains context (e.g., previous chat history, preferences) without extra setup.\\nStart Using AI Features – The editor now supports autocomplete, chat, or debugging powered by the same AI.\\n\\nSince MCP standardizes communication, switching between tools becomes effortless!\\n\\n\\n\\n  Are There Alternatives to MCP?\\n\\nYep. A few:'),\n",
       " Document(metadata={'source': 'https://dev.to/lovestaco/model-context-protocol-the-secret-sauce-behind-smart-ai-tools-5mc', 'title': 'Model Context Protocol: The Secret Sauce Behind Smart AI Tools - DEV Community', 'description': 'Ever wondered how tools like Cursor manage to remember what you’re working on across different files,... Tagged with webdev, programming, beginners, ai.', 'language': 'en'}, page_content='Since MCP standardizes communication, switching between tools becomes effortless!\\n\\n\\n\\n  Are There Alternatives to MCP?\\n\\nYep. A few:\\n\\nCustom APIs – Many AI companies build proprietary APIs, but these require custom integrations for each platform.\\nOpenAI’s Chat Markup Language (ChatML) – Used for structuring conversations with models like GPT.\\nLangChain / LlamaIndex – Frameworks for connecting AI models to external data, but not exactly the same as MCP.\\nREST/GraphQL APIs – Traditional methods, but they lack the standardized context-handling of MCP.\\n\\nMCP stands out by focusing on universal context sharing, making it ideal for multi-platform AI applications.\\n\\n\\n\\n  Wrapping Up'),\n",
       " Document(metadata={'source': 'https://dev.to/lovestaco/model-context-protocol-the-secret-sauce-behind-smart-ai-tools-5mc', 'title': 'Model Context Protocol: The Secret Sauce Behind Smart AI Tools - DEV Community', 'description': 'Ever wondered how tools like Cursor manage to remember what you’re working on across different files,... Tagged with webdev, programming, beginners, ai.', 'language': 'en'}, page_content='MCP stands out by focusing on universal context sharing, making it ideal for multi-platform AI applications.\\n\\n\\n\\n  Wrapping Up\\n\\nModel Context Protocol (MCP) is shaping up to be a key enabler for seamless AI interactions across different tools. \\nFor AI companies, adopting MCP means easier integrations and happier developers. \\nFor users, it means a smoother, more consistent AI experience no matter which editor or app they use.\\nWould you like to see MCP become a standard in AI development? Let me know your thoughts in the comments! 🚀\\n\\nI’ve been actively working on a super-convenient tool called LiveAPI.\\nLiveAPI helps you get all your backend APIs documented in a few minutes\\nWith LiveAPI, you can quickly generate interactive API documentation that allows users to execute APIs directly from the browser.\\n\\nIf you’re tired of manually creating docs for your APIs, this tool might just make your life easier.\\n\\n\\n\\n\\n\\n\\n\\n            Top comments (0)\\n\\n\\n\\n\\nSubscribe'),\n",
       " Document(metadata={'source': 'https://dev.to/lovestaco/model-context-protocol-the-secret-sauce-behind-smart-ai-tools-5mc', 'title': 'Model Context Protocol: The Secret Sauce Behind Smart AI Tools - DEV Community', 'description': 'Ever wondered how tools like Cursor manage to remember what you’re working on across different files,... Tagged with webdev, programming, beginners, ai.', 'language': 'en'}, page_content=\"If you’re tired of manually creating docs for your APIs, this tool might just make your life easier.\\n\\n\\n\\n\\n\\n\\n\\n            Top comments (0)\\n\\n\\n\\n\\nSubscribe\\n\\n\\n\\n\\n\\n\\n\\n\\n\\n\\n\\n\\n\\n\\n\\n\\n\\n\\n\\n\\nPersonal\\nTrusted User\\n\\n\\n\\n\\n\\n\\n        Create template\\n      \\nTemplates let you quickly answer FAQs or store snippets for re-use.\\n\\n\\n\\nSubmit\\nPreview\\nDismiss\\n\\n\\n\\n\\n\\n\\n\\n\\n\\nCode of Conduct\\n•\\nReport abuse\\n\\n\\n\\n\\n\\n\\n\\n        Are you sure you want to hide this comment? It will become hidden in your post, but will still be visible via the comment's permalink.\\n      \\n\\n\\nHide child comments as well\\n\\n\\n\\n          Confirm\\n        \\n\\n\\n For further actions, you may consider blocking this person and/or reporting abuse\\n\\n\\n\\n\\n\\n\\n\\n\\n\\n\\n\\n\\n\\n\\n\\n\\n\\n      Athreya aka Maneshwar\\n      \\n    \\n\\n\\n\\nFollow\\n\\n\\n    Technical Writer | 180k+ Reads | i3 x Mint | Learning, building, improving, writing :)\\n  \\n\\n\\n\\n\\n          Joined\\n        \\n\\nJan 5, 2023\\n\\n\\n\\n\\n\\n\\n\\n\\n            More from Athreya aka Maneshwar\"),\n",
       " Document(metadata={'source': 'https://dev.to/lovestaco/model-context-protocol-the-secret-sauce-behind-smart-ai-tools-5mc', 'title': 'Model Context Protocol: The Secret Sauce Behind Smart AI Tools - DEV Community', 'description': 'Ever wondered how tools like Cursor manage to remember what you’re working on across different files,... Tagged with webdev, programming, beginners, ai.', 'language': 'en'}, page_content='Technical Writer | 180k+ Reads | i3 x Mint | Learning, building, improving, writing :)\\n  \\n\\n\\n\\n\\n          Joined\\n        \\n\\nJan 5, 2023\\n\\n\\n\\n\\n\\n\\n\\n\\n            More from Athreya aka Maneshwar\\n\\n\\n\\n\\n              Making Sense of Strong, Weak, and Eventual Consistency\\n              \\n#webdev\\n#programming\\n#beginners\\n\\n\\n\\n              Quick Fix for Debugging Panic Failures in Go 🔧\\n              \\n#webdev\\n#programming\\n#beginners\\n#go\\n\\n\\n\\n              Smooth Database Migrations in a Fast-Moving World\\n              \\n#webdev\\n#programming\\n#devops\\n#database\\n\\n\\n\\n\\n\\n\\n\\n\\n\\n\\n\\n\\n\\n\\n\\n\\n\\n\\n\\n\\n\\n\\n\\n\\n\\r\\nThank you to our Diamond Sponsor Neon for supporting our community.\\r\\n\\n\\n\\nDEV Community — A constructive and inclusive social network for software developers. With you every step of your journey.\\n    \\n\\n\\n\\n      Home\\n    \\n\\n\\n\\n\\n      DEV++\\n    \\n\\n\\n\\n\\n      Podcasts\\n    \\n\\n\\n\\n\\n      Videos\\n    \\n\\n\\n\\n\\n      Tags\\n    \\n\\n\\n\\n\\n      DEV Help\\n    \\n\\n\\n\\n\\n      Forem Shop\\n    \\n\\n\\n\\n\\n      Advertise on DEV\\n    \\n\\n\\n\\n\\n      DEV Challenges'),\n",
       " Document(metadata={'source': 'https://dev.to/lovestaco/model-context-protocol-the-secret-sauce-behind-smart-ai-tools-5mc', 'title': 'Model Context Protocol: The Secret Sauce Behind Smart AI Tools - DEV Community', 'description': 'Ever wondered how tools like Cursor manage to remember what you’re working on across different files,... Tagged with webdev, programming, beginners, ai.', 'language': 'en'}, page_content=\"DEV++\\n    \\n\\n\\n\\n\\n      Podcasts\\n    \\n\\n\\n\\n\\n      Videos\\n    \\n\\n\\n\\n\\n      Tags\\n    \\n\\n\\n\\n\\n      DEV Help\\n    \\n\\n\\n\\n\\n      Forem Shop\\n    \\n\\n\\n\\n\\n      Advertise on DEV\\n    \\n\\n\\n\\n\\n      DEV Challenges\\n    \\n\\n\\n\\n\\n      DEV Showcase\\n    \\n\\n\\n\\n\\n      About\\n    \\n\\n\\n\\n\\n      Contact\\n    \\n\\n\\n\\n\\n      Free Postgres Database\\n    \\n\\n\\n\\n\\n      Software comparisons\\n    \\n\\n\\n\\n\\n\\n\\n      Code of Conduct\\n    \\n\\n\\n\\n\\n      Privacy Policy\\n    \\n\\n\\n\\n\\n      Terms of use\\n    \\n\\n\\n\\n\\nBuilt on Forem — the open source software that powers DEV and other inclusive communities.\\nMade with love and Ruby on Rails. DEV Community © 2016 - 2025.\\n\\n\\n\\n\\n\\n\\n\\n\\n\\n\\n\\n          We're a place where coders share, stay up-to-date and grow their careers.\\n      \\n\\n\\n\\n        Log in\\n      \\n\\n        Create account\")]"
      ]
     },
     "execution_count": 9,
     "metadata": {},
     "output_type": "execute_result"
    }
   ],
   "source": [
    "documents"
   ]
  },
  {
   "cell_type": "code",
   "execution_count": 10,
   "metadata": {},
   "outputs": [],
   "source": [
    "from langchain_openai import OpenAIEmbeddings\n",
    "embeddings=OpenAIEmbeddings()"
   ]
  },
  {
   "cell_type": "code",
   "execution_count": 11,
   "metadata": {},
   "outputs": [],
   "source": [
    "from langchain_community.vectorstores import FAISS\n",
    "vectorstoredb=FAISS.from_documents(documents,embeddings)"
   ]
  },
  {
   "cell_type": "code",
   "execution_count": 12,
   "metadata": {},
   "outputs": [
    {
     "data": {
      "text/plain": [
       "<langchain_community.vectorstores.faiss.FAISS at 0x23d71a80610>"
      ]
     },
     "execution_count": 12,
     "metadata": {},
     "output_type": "execute_result"
    }
   ],
   "source": [
    "vectorstoredb"
   ]
  },
  {
   "cell_type": "code",
   "execution_count": 13,
   "metadata": {},
   "outputs": [
    {
     "data": {
      "text/plain": [
       "'Why Use MCP?\\n\\n\\n\\nConsistent AI Behavior – Ensures AI models behave predictably across different environments.\\n\\nInteroperability – Lets different tools and editors work with the same AI model without compatibility issues.\\n\\nReduced Setup Hassle – Developers don’t need to rewrite integrations for every new platform.\\n\\nBetter Context Retention – Helps AI models maintain conversation history and user preferences across sessions.\\n\\n\\n\\n\\n  Why an AI Product Company Should Build with MCP\\n\\nIf your company is developing AI-powered tools, adopting or creating an MCP can be a game-changer. Here’s why:'"
      ]
     },
     "execution_count": 13,
     "metadata": {},
     "output_type": "execute_result"
    }
   ],
   "source": [
    "## Query From a vector db\n",
    "query=\"If your company is developing AI-powered tools, adopting or creating an MCP can be a game-changer. Here’s why:\"\n",
    "result=vectorstoredb.similarity_search(query)\n",
    "result[0].page_content"
   ]
  },
  {
   "cell_type": "code",
   "execution_count": 14,
   "metadata": {},
   "outputs": [],
   "source": [
    "from langchain_openai import ChatOpenAI\n",
    "llm=ChatOpenAI(model=\"gpt-4o\")"
   ]
  },
  {
   "cell_type": "code",
   "execution_count": 15,
   "metadata": {},
   "outputs": [
    {
     "data": {
      "text/plain": [
       "RunnableBinding(bound=RunnableBinding(bound=RunnableAssign(mapper={\n",
       "  context: RunnableLambda(format_docs)\n",
       "}), kwargs={}, config={'run_name': 'format_inputs'}, config_factories=[])\n",
       "| ChatPromptTemplate(input_variables=['context'], input_types={}, partial_variables={}, messages=[HumanMessagePromptTemplate(prompt=PromptTemplate(input_variables=['context'], input_types={}, partial_variables={}, template='\\nAnswer the following question based only on the provided context:\\n<context>\\n{context}\\n</context>\\n\\n\\n'), additional_kwargs={})])\n",
       "| ChatOpenAI(client=<openai.resources.chat.completions.completions.Completions object at 0x0000023D738A8DD0>, async_client=<openai.resources.chat.completions.completions.AsyncCompletions object at 0x0000023D73273D10>, root_client=<openai.OpenAI object at 0x0000023D617FF210>, root_async_client=<openai.AsyncOpenAI object at 0x0000023D739AA290>, model_name='gpt-4o', model_kwargs={}, openai_api_key=SecretStr('**********'))\n",
       "| StrOutputParser(), kwargs={}, config={'run_name': 'stuff_documents_chain'}, config_factories=[])"
      ]
     },
     "execution_count": 15,
     "metadata": {},
     "output_type": "execute_result"
    }
   ],
   "source": [
    "## Retrieval Chain, Document chain\n",
    "\n",
    "from langchain.chains.combine_documents import create_stuff_documents_chain\n",
    "from langchain_core.prompts import ChatPromptTemplate\n",
    "\n",
    "prompt=ChatPromptTemplate.from_template(\n",
    "    \"\"\"\n",
    "Answer the following question based only on the provided context:\n",
    "<context>\n",
    "{context}\n",
    "</context>\n",
    "\n",
    "\n",
    "\"\"\"\n",
    ")\n",
    "\n",
    "document_chain=create_stuff_documents_chain(llm,prompt)\n",
    "document_chain"
   ]
  },
  {
   "cell_type": "code",
   "execution_count": 17,
   "metadata": {},
   "outputs": [
    {
     "data": {
      "text/plain": [
       "\"The answer to the question would depend on what the specific question is. However, based on the provided context, if you're asking about how other platforms interact with the AI model, the context suggests that other platforms can integrate with the AI model quickly and easily with minimal configuration required.\""
      ]
     },
     "execution_count": 17,
     "metadata": {},
     "output_type": "execute_result"
    }
   ],
   "source": [
    "from langchain_core.documents import Document\n",
    "document_chain.invoke({\n",
    "    \"input\":\"Why an AI Product Company Should Build with MCP\",\n",
    "    \"context\":[Document(page_content=\"Faster Integrations – Other platforms can plug into your AI model with minimal configuration.\")]\n",
    "})"
   ]
  },
  {
   "cell_type": "markdown",
   "metadata": {},
   "source": [
    "However, we want the documents to first come from the retriever we just set up. That way, we can use the retriever to dynamically select the most relevant documents and pass those in for a given question."
   ]
  },
  {
   "cell_type": "code",
   "execution_count": 18,
   "metadata": {},
   "outputs": [
    {
     "data": {
      "text/plain": [
       "<langchain_community.vectorstores.faiss.FAISS at 0x23d71a80610>"
      ]
     },
     "execution_count": 18,
     "metadata": {},
     "output_type": "execute_result"
    }
   ],
   "source": [
    "### Input--->Retriever--->vectorstoredb\n",
    "\n",
    "vectorstoredb"
   ]
  },
  {
   "cell_type": "code",
   "execution_count": 19,
   "metadata": {},
   "outputs": [],
   "source": [
    "retriever=vectorstoredb.as_retriever()\n",
    "from langchain.chains import create_retrieval_chain\n",
    "retrieval_chain=create_retrieval_chain(retriever,document_chain)\n"
   ]
  },
  {
   "cell_type": "code",
   "execution_count": 20,
   "metadata": {},
   "outputs": [
    {
     "data": {
      "text/plain": [
       "RunnableBinding(bound=RunnableAssign(mapper={\n",
       "  context: RunnableBinding(bound=RunnableLambda(lambda x: x['input'])\n",
       "           | VectorStoreRetriever(tags=['FAISS', 'OpenAIEmbeddings'], vectorstore=<langchain_community.vectorstores.faiss.FAISS object at 0x0000023D71A80610>, search_kwargs={}), kwargs={}, config={'run_name': 'retrieve_documents'}, config_factories=[])\n",
       "})\n",
       "| RunnableAssign(mapper={\n",
       "    answer: RunnableBinding(bound=RunnableBinding(bound=RunnableAssign(mapper={\n",
       "              context: RunnableLambda(format_docs)\n",
       "            }), kwargs={}, config={'run_name': 'format_inputs'}, config_factories=[])\n",
       "            | ChatPromptTemplate(input_variables=['context'], input_types={}, partial_variables={}, messages=[HumanMessagePromptTemplate(prompt=PromptTemplate(input_variables=['context'], input_types={}, partial_variables={}, template='\\nAnswer the following question based only on the provided context:\\n<context>\\n{context}\\n</context>\\n\\n\\n'), additional_kwargs={})])\n",
       "            | ChatOpenAI(client=<openai.resources.chat.completions.completions.Completions object at 0x0000023D738A8DD0>, async_client=<openai.resources.chat.completions.completions.AsyncCompletions object at 0x0000023D73273D10>, root_client=<openai.OpenAI object at 0x0000023D617FF210>, root_async_client=<openai.AsyncOpenAI object at 0x0000023D739AA290>, model_name='gpt-4o', model_kwargs={}, openai_api_key=SecretStr('**********'))\n",
       "            | StrOutputParser(), kwargs={}, config={'run_name': 'stuff_documents_chain'}, config_factories=[])\n",
       "  }), kwargs={}, config={'run_name': 'retrieval_chain'}, config_factories=[])"
      ]
     },
     "execution_count": 20,
     "metadata": {},
     "output_type": "execute_result"
    }
   ],
   "source": [
    "retrieval_chain"
   ]
  },
  {
   "cell_type": "code",
   "execution_count": 21,
   "metadata": {},
   "outputs": [
    {
     "data": {
      "text/plain": [
       "'Based on the provided context, an AI product company should build with MCP for several reasons:\\n\\n1. **Faster Integrations**: MCP allows other platforms to plug into the AI model with minimal configuration, reducing setup time.\\n\\n2. **Ecosystem Growth**: By encouraging third-party developers to build on top of the AI, MCP expands the product’s reach.\\n\\n3. **Improved User Experience**: MCP ensures smooth transitions when users switch between different tools, like VS Code and JetBrains IDE.\\n\\n4. **Competitive Edge**: A standardized protocol makes the AI more adaptable and future-proof, offering a competitive advantage.\\n\\nThe context emphasizes the plug-and-play nature of MCP, ensuring consistent AI behavior, interoperability, reduced setup hassle, and better context retention across different platforms and sessions.'"
      ]
     },
     "execution_count": 21,
     "metadata": {},
     "output_type": "execute_result"
    }
   ],
   "source": [
    "## Get the response form the LLM\n",
    "response=retrieval_chain.invoke({\"input\":\"Why an AI Product Company Should Build with MCP\"})\n",
    "response['answer']"
   ]
  },
  {
   "cell_type": "code",
   "execution_count": 22,
   "metadata": {},
   "outputs": [
    {
     "data": {
      "text/plain": [
       "{'input': 'Why an AI Product Company Should Build with MCP',\n",
       " 'context': [Document(id='533d5a56-9e7d-43f5-af8a-a9f6a59b493a', metadata={'source': 'https://dev.to/lovestaco/model-context-protocol-the-secret-sauce-behind-smart-ai-tools-5mc', 'title': 'Model Context Protocol: The Secret Sauce Behind Smart AI Tools - DEV Community', 'description': 'Ever wondered how tools like Cursor manage to remember what you’re working on across different files,... Tagged with webdev, programming, beginners, ai.', 'language': 'en'}, page_content='Why an AI Product Company Should Build with MCP\\n\\nIf your company is developing AI-powered tools, adopting or creating an MCP can be a game-changer. Here’s why:\\n\\nFaster Integrations – Other platforms can plug into your AI model with minimal configuration.\\nEcosystem Growth – Encourages third-party developers to build on top of your AI, expanding your product’s reach.\\nImproved User Experience – Ensures smooth transitions when users switch between different tools (e.g., VS Code → JetBrains IDE).\\nCompetitive Edge – Having a standardized protocol makes your AI more adaptable and future-proof.\\n\\n\\n\\n\\n  How Code Editors Can Use MCP with Minimal Setup\\n\\nOne of the biggest advantages of MCP is its plug-and-play nature. Here’s how another code editor (like VS Code, or Cursor) could integrate with an AI product using MCP:'),\n",
       "  Document(id='7863a266-0b26-45e3-94f9-f3edca97b131', metadata={'source': 'https://dev.to/lovestaco/model-context-protocol-the-secret-sauce-behind-smart-ai-tools-5mc', 'title': 'Model Context Protocol: The Secret Sauce Behind Smart AI Tools - DEV Community', 'description': 'Ever wondered how tools like Cursor manage to remember what you’re working on across different files,... Tagged with webdev, programming, beginners, ai.', 'language': 'en'}, page_content='Why Use MCP?\\n\\n\\n\\nConsistent AI Behavior – Ensures AI models behave predictably across different environments.\\n\\nInteroperability – Lets different tools and editors work with the same AI model without compatibility issues.\\n\\nReduced Setup Hassle – Developers don’t need to rewrite integrations for every new platform.\\n\\nBetter Context Retention – Helps AI models maintain conversation history and user preferences across sessions.\\n\\n\\n\\n\\n  Why an AI Product Company Should Build with MCP\\n\\nIf your company is developing AI-powered tools, adopting or creating an MCP can be a game-changer. Here’s why:'),\n",
       "  Document(id='48381aca-8328-416f-a72f-a448a880d546', metadata={'source': 'https://dev.to/lovestaco/model-context-protocol-the-secret-sauce-behind-smart-ai-tools-5mc', 'title': 'Model Context Protocol: The Secret Sauce Behind Smart AI Tools - DEV Community', 'description': 'Ever wondered how tools like Cursor manage to remember what you’re working on across different files,... Tagged with webdev, programming, beginners, ai.', 'language': 'en'}, page_content='Since MCP standardizes communication, switching between tools becomes effortless!\\n\\n\\n\\n  Are There Alternatives to MCP?\\n\\nYep. A few:\\n\\nCustom APIs – Many AI companies build proprietary APIs, but these require custom integrations for each platform.\\nOpenAI’s Chat Markup Language (ChatML) – Used for structuring conversations with models like GPT.\\nLangChain / LlamaIndex – Frameworks for connecting AI models to external data, but not exactly the same as MCP.\\nREST/GraphQL APIs – Traditional methods, but they lack the standardized context-handling of MCP.\\n\\nMCP stands out by focusing on universal context sharing, making it ideal for multi-platform AI applications.\\n\\n\\n\\n  Wrapping Up'),\n",
       "  Document(id='308b3564-00d6-481c-8a6c-a402a67eba35', metadata={'source': 'https://dev.to/lovestaco/model-context-protocol-the-secret-sauce-behind-smart-ai-tools-5mc', 'title': 'Model Context Protocol: The Secret Sauce Behind Smart AI Tools - DEV Community', 'description': 'Ever wondered how tools like Cursor manage to remember what you’re working on across different files,... Tagged with webdev, programming, beginners, ai.', 'language': 'en'}, page_content='One of the biggest advantages of MCP is its plug-and-play nature. Here’s how another code editor (like VS Code, or Cursor) could integrate with an AI product using MCP:\\n\\nInstall a Plugin/Extension – The editor just needs a lightweight MCP-compatible plugin.\\nConfigure API Endpoints – Point the plugin to the AI service’s MCP endpoint.\\nSync Context – The AI model retains context (e.g., previous chat history, preferences) without extra setup.\\nStart Using AI Features – The editor now supports autocomplete, chat, or debugging powered by the same AI.\\n\\nSince MCP standardizes communication, switching between tools becomes effortless!\\n\\n\\n\\n  Are There Alternatives to MCP?\\n\\nYep. A few:')],\n",
       " 'answer': 'Based on the provided context, an AI product company should build with MCP for several reasons:\\n\\n1. **Faster Integrations**: MCP allows other platforms to plug into the AI model with minimal configuration, reducing setup time.\\n\\n2. **Ecosystem Growth**: By encouraging third-party developers to build on top of the AI, MCP expands the product’s reach.\\n\\n3. **Improved User Experience**: MCP ensures smooth transitions when users switch between different tools, like VS Code and JetBrains IDE.\\n\\n4. **Competitive Edge**: A standardized protocol makes the AI more adaptable and future-proof, offering a competitive advantage.\\n\\nThe context emphasizes the plug-and-play nature of MCP, ensuring consistent AI behavior, interoperability, reduced setup hassle, and better context retention across different platforms and sessions.'}"
      ]
     },
     "execution_count": 22,
     "metadata": {},
     "output_type": "execute_result"
    }
   ],
   "source": [
    "\n",
    "response"
   ]
  },
  {
   "cell_type": "code",
   "execution_count": 23,
   "metadata": {},
   "outputs": [
    {
     "data": {
      "text/plain": [
       "[Document(id='533d5a56-9e7d-43f5-af8a-a9f6a59b493a', metadata={'source': 'https://dev.to/lovestaco/model-context-protocol-the-secret-sauce-behind-smart-ai-tools-5mc', 'title': 'Model Context Protocol: The Secret Sauce Behind Smart AI Tools - DEV Community', 'description': 'Ever wondered how tools like Cursor manage to remember what you’re working on across different files,... Tagged with webdev, programming, beginners, ai.', 'language': 'en'}, page_content='Why an AI Product Company Should Build with MCP\\n\\nIf your company is developing AI-powered tools, adopting or creating an MCP can be a game-changer. Here’s why:\\n\\nFaster Integrations – Other platforms can plug into your AI model with minimal configuration.\\nEcosystem Growth – Encourages third-party developers to build on top of your AI, expanding your product’s reach.\\nImproved User Experience – Ensures smooth transitions when users switch between different tools (e.g., VS Code → JetBrains IDE).\\nCompetitive Edge – Having a standardized protocol makes your AI more adaptable and future-proof.\\n\\n\\n\\n\\n  How Code Editors Can Use MCP with Minimal Setup\\n\\nOne of the biggest advantages of MCP is its plug-and-play nature. Here’s how another code editor (like VS Code, or Cursor) could integrate with an AI product using MCP:'),\n",
       " Document(id='7863a266-0b26-45e3-94f9-f3edca97b131', metadata={'source': 'https://dev.to/lovestaco/model-context-protocol-the-secret-sauce-behind-smart-ai-tools-5mc', 'title': 'Model Context Protocol: The Secret Sauce Behind Smart AI Tools - DEV Community', 'description': 'Ever wondered how tools like Cursor manage to remember what you’re working on across different files,... Tagged with webdev, programming, beginners, ai.', 'language': 'en'}, page_content='Why Use MCP?\\n\\n\\n\\nConsistent AI Behavior – Ensures AI models behave predictably across different environments.\\n\\nInteroperability – Lets different tools and editors work with the same AI model without compatibility issues.\\n\\nReduced Setup Hassle – Developers don’t need to rewrite integrations for every new platform.\\n\\nBetter Context Retention – Helps AI models maintain conversation history and user preferences across sessions.\\n\\n\\n\\n\\n  Why an AI Product Company Should Build with MCP\\n\\nIf your company is developing AI-powered tools, adopting or creating an MCP can be a game-changer. Here’s why:'),\n",
       " Document(id='48381aca-8328-416f-a72f-a448a880d546', metadata={'source': 'https://dev.to/lovestaco/model-context-protocol-the-secret-sauce-behind-smart-ai-tools-5mc', 'title': 'Model Context Protocol: The Secret Sauce Behind Smart AI Tools - DEV Community', 'description': 'Ever wondered how tools like Cursor manage to remember what you’re working on across different files,... Tagged with webdev, programming, beginners, ai.', 'language': 'en'}, page_content='Since MCP standardizes communication, switching between tools becomes effortless!\\n\\n\\n\\n  Are There Alternatives to MCP?\\n\\nYep. A few:\\n\\nCustom APIs – Many AI companies build proprietary APIs, but these require custom integrations for each platform.\\nOpenAI’s Chat Markup Language (ChatML) – Used for structuring conversations with models like GPT.\\nLangChain / LlamaIndex – Frameworks for connecting AI models to external data, but not exactly the same as MCP.\\nREST/GraphQL APIs – Traditional methods, but they lack the standardized context-handling of MCP.\\n\\nMCP stands out by focusing on universal context sharing, making it ideal for multi-platform AI applications.\\n\\n\\n\\n  Wrapping Up'),\n",
       " Document(id='308b3564-00d6-481c-8a6c-a402a67eba35', metadata={'source': 'https://dev.to/lovestaco/model-context-protocol-the-secret-sauce-behind-smart-ai-tools-5mc', 'title': 'Model Context Protocol: The Secret Sauce Behind Smart AI Tools - DEV Community', 'description': 'Ever wondered how tools like Cursor manage to remember what you’re working on across different files,... Tagged with webdev, programming, beginners, ai.', 'language': 'en'}, page_content='One of the biggest advantages of MCP is its plug-and-play nature. Here’s how another code editor (like VS Code, or Cursor) could integrate with an AI product using MCP:\\n\\nInstall a Plugin/Extension – The editor just needs a lightweight MCP-compatible plugin.\\nConfigure API Endpoints – Point the plugin to the AI service’s MCP endpoint.\\nSync Context – The AI model retains context (e.g., previous chat history, preferences) without extra setup.\\nStart Using AI Features – The editor now supports autocomplete, chat, or debugging powered by the same AI.\\n\\nSince MCP standardizes communication, switching between tools becomes effortless!\\n\\n\\n\\n  Are There Alternatives to MCP?\\n\\nYep. A few:')]"
      ]
     },
     "execution_count": 23,
     "metadata": {},
     "output_type": "execute_result"
    }
   ],
   "source": [
    "response['context']"
   ]
  },
  {
   "cell_type": "code",
   "execution_count": null,
   "metadata": {},
   "outputs": [],
   "source": []
  }
 ],
 "metadata": {
  "kernelspec": {
   "display_name": "Python 3",
   "language": "python",
   "name": "python3"
  },
  "language_info": {
   "codemirror_mode": {
    "name": "ipython",
    "version": 3
   },
   "file_extension": ".py",
   "mimetype": "text/x-python",
   "name": "python",
   "nbconvert_exporter": "python",
   "pygments_lexer": "ipython3",
   "version": "3.11.0"
  }
 },
 "nbformat": 4,
 "nbformat_minor": 2
}
