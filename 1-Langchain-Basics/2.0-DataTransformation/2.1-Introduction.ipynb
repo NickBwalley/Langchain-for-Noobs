{
 "cells": [
  {
   "cell_type": "markdown",
   "id": "32de60a8",
   "metadata": {},
   "source": [
    "### ✅ 1. **Data Transformation**\n",
    "\n",
    "#### 📘 What It Is:\n",
    "\n",
    "This step involves taking your **raw data** (e.g. PDF text, HTML, JSON, Markdown) and **splitting** it into manageable chunks that can be embedded and retrieved later.\n",
    "\n",
    "#### 🎯 L.O.:\n",
    "\n",
    "1. RecursiveCharacterTextSplitter\n",
    "\n",
    "2. CharacterTextSplitter\n",
    "\n",
    "3. HTMLTextSplitter\n",
    "\n",
    "4. RecursiveJsonSplitter\n",
    "\n",
    "\n",
    "#### 🎯 Aim:\n",
    "\n",
    "-   Make the data chunked into semantically meaningful pieces.\n",
    "    \n",
    "-   Ensure each chunk fits within the token limits of the LLM and vector store.\n",
    "    \n",
    "-   Maintain enough context in each chunk."
   ]
  },
  {
   "cell_type": "markdown",
   "id": "1c36d730",
   "metadata": {},
   "source": []
  }
 ],
 "metadata": {
  "language_info": {
   "name": "python"
  }
 },
 "nbformat": 4,
 "nbformat_minor": 5
}
