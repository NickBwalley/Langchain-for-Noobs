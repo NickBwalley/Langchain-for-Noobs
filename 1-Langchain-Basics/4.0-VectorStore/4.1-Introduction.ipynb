{
 "cells": [
  {
   "cell_type": "markdown",
   "id": "d3a12e82",
   "metadata": {},
   "source": [
    "### ✅ 4. **Vector Store (Storing Embeddings)**\n",
    "\n",
    "#### 📘 What It Is:\n",
    "\n",
    "A database optimized for **vector similarity search**, like FAISS, Chroma, Pinecone, Weaviate.\n",
    "\n",
    "#### 🎯 Aim:\n",
    "\n",
    "-   Store vectors for retrieval at query time.\n",
    "    \n",
    "-   Enable semantic search.\n",
    "    \n",
    "\n",
    "* * *\n",
    "\n",
    "🧰 **Example using FAISS**:\n",
    "```bash\n",
    "from langchain.vectorstores import FAISS\n",
    "\n",
    "# Split the documents\n",
    "docs = text_splitter.split_documents(documents)\n",
    "\n",
    "# Embed and store in FAISS\n",
    "db = FAISS.from_documents(docs, embedding)\n",
    "```\n",
    "- 🧠 Later, to query:\n",
    "```bash\n",
    "retrieved_docs = db.similarity_search(\"summarize this report\", k=4)\n",
    "\n",
    "```\n"
   ]
  },
  {
   "cell_type": "markdown",
   "id": "6ed6e5eb",
   "metadata": {},
   "source": []
  }
 ],
 "metadata": {
  "language_info": {
   "name": "python"
  }
 },
 "nbformat": 4,
 "nbformat_minor": 5
}
